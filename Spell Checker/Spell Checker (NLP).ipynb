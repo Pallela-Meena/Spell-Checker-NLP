{
 "cells": [
  {
   "cell_type": "code",
   "execution_count": 1,
   "id": "00e81bb4",
   "metadata": {},
   "outputs": [],
   "source": [
    "import re\n",
    "import pandas as pd\n",
    "from collections import Counter"
   ]
  },
  {
   "cell_type": "markdown",
   "id": "f49db3cf",
   "metadata": {},
   "source": [
    "## 1. Finding the Unique Words"
   ]
  },
  {
   "cell_type": "code",
   "execution_count": 2,
   "id": "56a4ca5c",
   "metadata": {},
   "outputs": [
    {
     "name": "stdout",
     "output_type": "stream",
     "text": [
      "All the words:  1115585\n",
      "Unique words:  32198\n"
     ]
    }
   ],
   "source": [
    "with open('textCorpus.txt','r') as fd:\n",
    "    lines = fd.readlines()\n",
    "    words = []\n",
    "    for line in lines:\n",
    "        words += re.findall('\\w+',line.lower())\n",
    "        \n",
    "print(\"All the words: \",len(words))\n",
    "vocab = list(set(words))\n",
    "print(\"Unique words: \",len(vocab))"
   ]
  },
  {
   "cell_type": "markdown",
   "id": "64837589",
   "metadata": {},
   "source": [
    "## 2. Finding the Probability Distribution"
   ]
  },
  {
   "cell_type": "code",
   "execution_count": 3,
   "id": "94f5d764",
   "metadata": {},
   "outputs": [],
   "source": [
    "word_probability = dict(Counter(words))\n",
    "\n",
    "for i in word_probability:\n",
    "    word_probability[i]=word_probability[i]/len(words)"
   ]
  },
  {
   "cell_type": "markdown",
   "id": "68987b15",
   "metadata": {},
   "source": [
    "## 3. Text Preprocessing\n",
    "### Splitting"
   ]
  },
  {
   "cell_type": "code",
   "execution_count": 4,
   "id": "c560aabe",
   "metadata": {},
   "outputs": [],
   "source": [
    "def split(word):  \n",
    "    parts = []\n",
    "    for i in range(len(word) + 1):\n",
    "        parts += [(word[ : i], word[i : ])]\n",
    "    return parts"
   ]
  },
  {
   "cell_type": "markdown",
   "id": "6ce1bdd2",
   "metadata": {},
   "source": [
    "### 3.1) Delete\n",
    "\n",
    "'loave' -> 'love'"
   ]
  },
  {
   "cell_type": "code",
   "execution_count": 5,
   "id": "4454b5fa",
   "metadata": {},
   "outputs": [
    {
     "data": {
      "text/plain": [
       "['oave', 'lave', 'love', 'loae', 'loav', 'loave']"
      ]
     },
     "execution_count": 5,
     "metadata": {},
     "output_type": "execute_result"
    }
   ],
   "source": [
    "def delete(word):\n",
    "    \n",
    "    output = []\n",
    "    for l,r in split(word):\n",
    "        output.append(l + r[1:])\n",
    "    return output\n",
    "\n",
    "delete('loave')"
   ]
  },
  {
   "cell_type": "markdown",
   "id": "e23c70c6",
   "metadata": {},
   "source": [
    "### 3.2) Swap\n",
    "\n",
    "'lvoe' -> 'love'"
   ]
  },
  {
   "cell_type": "code",
   "execution_count": 6,
   "id": "b24d4711",
   "metadata": {},
   "outputs": [
    {
     "data": {
      "text/plain": [
       "['vloe', 'love', 'lveo']"
      ]
     },
     "execution_count": 6,
     "metadata": {},
     "output_type": "execute_result"
    }
   ],
   "source": [
    "def swap(word):\n",
    "        \n",
    "    output = []    \n",
    "    for l,r in split(word):\n",
    "        if (len(r) > 1):\n",
    "            output.append(l + r[1] + r[0] + r[2:])\n",
    "    return output\n",
    "            \n",
    "swap('lvoe')"
   ]
  },
  {
   "cell_type": "markdown",
   "id": "2573ce62",
   "metadata": {},
   "source": [
    "### 3.3) Replace\n",
    "\n",
    "'lave' -> 'love'"
   ]
  },
  {
   "cell_type": "code",
   "execution_count": 7,
   "id": "cfa7ae2b",
   "metadata": {},
   "outputs": [
    {
     "data": {
      "text/plain": [
       "130"
      ]
     },
     "execution_count": 7,
     "metadata": {},
     "output_type": "execute_result"
    }
   ],
   "source": [
    "def replace(word):\n",
    "    \n",
    "    characters = 'abcdefghijklmnopqrstuvwxyz'\n",
    "    output = []    \n",
    "\n",
    "    for l,r in split(word):\n",
    "        for char in characters:\n",
    "            output.append(l + char +  r[1:])\n",
    "    return output\n",
    "\n",
    "len(replace('lave'))"
   ]
  },
  {
   "cell_type": "markdown",
   "id": "863a0fc6",
   "metadata": {},
   "source": [
    "### 3.4) Insert\n",
    "\n",
    "'lve' -> 'love'"
   ]
  },
  {
   "cell_type": "code",
   "execution_count": 8,
   "id": "b7384ad1",
   "metadata": {},
   "outputs": [
    {
     "data": {
      "text/plain": [
       "104"
      ]
     },
     "execution_count": 8,
     "metadata": {},
     "output_type": "execute_result"
    }
   ],
   "source": [
    "def insert(word):\n",
    "\n",
    "    characters = 'abcdefghijklmnopqrstuvwxyz'\n",
    "    output = []\n",
    "\n",
    "    for l,r in split(word):\n",
    "        for char in characters:\n",
    "            output.append(l + char + r)\n",
    "\n",
    "    return output\n",
    "\n",
    "len(insert('lve'))"
   ]
  },
  {
   "cell_type": "markdown",
   "id": "355d3eb7",
   "metadata": {},
   "source": [
    "## 4. Finding the Prediction (Level - 1)\n",
    "### 4.1) Combining Possible Words"
   ]
  },
  {
   "cell_type": "code",
   "execution_count": 9,
   "id": "e3f479c7",
   "metadata": {},
   "outputs": [],
   "source": [
    "def edit(word):   \n",
    "    return list(set(insert(word) + delete(word) + swap(word) + replace(word)))"
   ]
  },
  {
   "cell_type": "markdown",
   "id": "6cad9164",
   "metadata": {},
   "source": [
    "### 4.2) Predicting the Word"
   ]
  },
  {
   "cell_type": "code",
   "execution_count": 10,
   "id": "74f92a1a",
   "metadata": {},
   "outputs": [],
   "source": [
    "def spell_check_edit_1(word, count = 5):\n",
    "    \n",
    "    output = []\n",
    "    suggested_words = edit(word)\n",
    "    \n",
    "    for wrd in suggested_words:        \n",
    "        if wrd in word_probability.keys():\n",
    "            output.append([wrd, word_probability[wrd]])\n",
    "            \n",
    "    return list(pd.DataFrame(output, columns = ['word','prob']).sort_values(by = 'prob', ascending = False).head(count)['word'].values)"
   ]
  },
  {
   "cell_type": "code",
   "execution_count": 11,
   "id": "c57b3289",
   "metadata": {},
   "outputs": [
    {
     "data": {
      "text/plain": [
       "['family', 'namely', 'lamely']"
      ]
     },
     "execution_count": 11,
     "metadata": {},
     "output_type": "execute_result"
    }
   ],
   "source": [
    "spell_check_edit_1('famely')"
   ]
  },
  {
   "cell_type": "markdown",
   "id": "b0c5ffbe",
   "metadata": {},
   "source": [
    "## 5. Finding the Prediction (Level - 2)\n",
    "### 5.1) Combining Possible Words"
   ]
  },
  {
   "cell_type": "code",
   "execution_count": 12,
   "id": "86cf38b5",
   "metadata": {},
   "outputs": [
    {
     "data": {
      "text/plain": [
       "['family', 'namely', 'fame', 'amelie', 'camel']"
      ]
     },
     "execution_count": 12,
     "metadata": {},
     "output_type": "execute_result"
    }
   ],
   "source": [
    "def spell_check_edit_2(word, count = 5):\n",
    "    \n",
    "    output = []\n",
    "    suggested_words = edit(word)       # Level one Edit\n",
    "    \n",
    "    for e1 in edit(word):\n",
    "        suggested_words += edit(e1)    # Second Level Edit \n",
    "    \n",
    "    suggested_words = list(set(suggested_words))\n",
    "    \n",
    "    for wrd in suggested_words:\n",
    "        if wrd in word_probability.keys():\n",
    "            output.append([wrd, word_probability[wrd]])\n",
    "    return list(pd.DataFrame(output, columns = ['word','prob']).sort_values(by = 'prob', ascending = False).head(count)['word'].values)\n",
    "        \n",
    "spell_check_edit_2('fameli')"
   ]
  }
 ],
 "metadata": {
  "kernelspec": {
   "display_name": "Python 3 (ipykernel)",
   "language": "python",
   "name": "python3"
  },
  "language_info": {
   "codemirror_mode": {
    "name": "ipython",
    "version": 3
   },
   "file_extension": ".py",
   "mimetype": "text/x-python",
   "name": "python",
   "nbconvert_exporter": "python",
   "pygments_lexer": "ipython3",
   "version": "3.9.12"
  }
 },
 "nbformat": 4,
 "nbformat_minor": 5
}
